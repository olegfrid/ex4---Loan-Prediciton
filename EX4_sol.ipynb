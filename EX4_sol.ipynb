{
 "cells": [
  {
   "cell_type": "markdown",
   "metadata": {},
   "source": [
    "# EX4 Solution"
   ]
  },
  {
   "cell_type": "markdown",
   "metadata": {},
   "source": [
    "#### import all packages :"
   ]
  },
  {
   "cell_type": "code",
   "execution_count": 398,
   "metadata": {},
   "outputs": [
    {
     "name": "stdout",
     "output_type": "stream",
     "text": [
      "Populating the interactive namespace from numpy and matplotlib\n"
     ]
    },
    {
     "name": "stderr",
     "output_type": "stream",
     "text": [
      "C:\\Users\\oleg\\Anaconda3\\lib\\site-packages\\IPython\\core\\magics\\pylab.py:160: UserWarning: pylab import has clobbered these variables: ['table']\n",
      "`%matplotlib` prevents importing * from pylab and numpy\n",
      "  \"\\n`%matplotlib` prevents importing * from pylab and numpy\"\n"
     ]
    }
   ],
   "source": [
    "% pylab inline\n",
    "import pandas as pd\n",
    "import numpy as np\n",
    "import matplotlib as plt\n",
    "from sklearn.preprocessing import LabelEncoder\n",
    "from sklearn.linear_model import LogisticRegression\n",
    "from sklearn.cross_validation import KFold   #For K-fold cross validation\n",
    "from sklearn import metrics\n",
    "from sklearn.naive_bayes import GaussianNB\n",
    "from sklearn.svm import SVC\n",
    "from sklearn.neighbors import KNeighborsClassifier\n",
    "from sklearn.neural_network import MLPClassifier\n",
    "from sklearn.ensemble import RandomForestClassifier\n",
    "from sklearn.tree import DecisionTreeClassifier"
   ]
  },
  {
   "cell_type": "markdown",
   "metadata": {},
   "source": [
    "## data import"
   ]
  },
  {
   "cell_type": "code",
   "execution_count": 399,
   "metadata": {
    "collapsed": true
   },
   "outputs": [],
   "source": [
    "df_train = pd.read_csv(\"./data/train.csv\")\n",
    "df_test = pd.read_csv(\"./data/test.csv\")"
   ]
  },
  {
   "cell_type": "markdown",
   "metadata": {},
   "source": [
    "## cheking & filling missing values"
   ]
  },
  {
   "cell_type": "code",
   "execution_count": 400,
   "metadata": {},
   "outputs": [
    {
     "data": {
      "text/html": [
       "<div>\n",
       "<style>\n",
       "    .dataframe thead tr:only-child th {\n",
       "        text-align: right;\n",
       "    }\n",
       "\n",
       "    .dataframe thead th {\n",
       "        text-align: left;\n",
       "    }\n",
       "\n",
       "    .dataframe tbody tr th {\n",
       "        vertical-align: top;\n",
       "    }\n",
       "</style>\n",
       "<table border=\"1\" class=\"dataframe\">\n",
       "  <thead>\n",
       "    <tr style=\"text-align: right;\">\n",
       "      <th></th>\n",
       "      <th>ApplicantIncome</th>\n",
       "      <th>CoapplicantIncome</th>\n",
       "      <th>LoanAmount</th>\n",
       "      <th>Loan_Amount_Term</th>\n",
       "      <th>Credit_History</th>\n",
       "    </tr>\n",
       "  </thead>\n",
       "  <tbody>\n",
       "    <tr>\n",
       "      <th>count</th>\n",
       "      <td>614.000000</td>\n",
       "      <td>614.000000</td>\n",
       "      <td>592.000000</td>\n",
       "      <td>600.00000</td>\n",
       "      <td>564.000000</td>\n",
       "    </tr>\n",
       "    <tr>\n",
       "      <th>mean</th>\n",
       "      <td>5403.459283</td>\n",
       "      <td>1621.245798</td>\n",
       "      <td>146.412162</td>\n",
       "      <td>342.00000</td>\n",
       "      <td>0.842199</td>\n",
       "    </tr>\n",
       "    <tr>\n",
       "      <th>std</th>\n",
       "      <td>6109.041673</td>\n",
       "      <td>2926.248369</td>\n",
       "      <td>85.587325</td>\n",
       "      <td>65.12041</td>\n",
       "      <td>0.364878</td>\n",
       "    </tr>\n",
       "    <tr>\n",
       "      <th>min</th>\n",
       "      <td>150.000000</td>\n",
       "      <td>0.000000</td>\n",
       "      <td>9.000000</td>\n",
       "      <td>12.00000</td>\n",
       "      <td>0.000000</td>\n",
       "    </tr>\n",
       "    <tr>\n",
       "      <th>25%</th>\n",
       "      <td>2877.500000</td>\n",
       "      <td>0.000000</td>\n",
       "      <td>100.000000</td>\n",
       "      <td>360.00000</td>\n",
       "      <td>1.000000</td>\n",
       "    </tr>\n",
       "    <tr>\n",
       "      <th>50%</th>\n",
       "      <td>3812.500000</td>\n",
       "      <td>1188.500000</td>\n",
       "      <td>128.000000</td>\n",
       "      <td>360.00000</td>\n",
       "      <td>1.000000</td>\n",
       "    </tr>\n",
       "    <tr>\n",
       "      <th>75%</th>\n",
       "      <td>5795.000000</td>\n",
       "      <td>2297.250000</td>\n",
       "      <td>168.000000</td>\n",
       "      <td>360.00000</td>\n",
       "      <td>1.000000</td>\n",
       "    </tr>\n",
       "    <tr>\n",
       "      <th>max</th>\n",
       "      <td>81000.000000</td>\n",
       "      <td>41667.000000</td>\n",
       "      <td>700.000000</td>\n",
       "      <td>480.00000</td>\n",
       "      <td>1.000000</td>\n",
       "    </tr>\n",
       "  </tbody>\n",
       "</table>\n",
       "</div>"
      ],
      "text/plain": [
       "       ApplicantIncome  CoapplicantIncome  LoanAmount  Loan_Amount_Term  \\\n",
       "count       614.000000         614.000000  592.000000         600.00000   \n",
       "mean       5403.459283        1621.245798  146.412162         342.00000   \n",
       "std        6109.041673        2926.248369   85.587325          65.12041   \n",
       "min         150.000000           0.000000    9.000000          12.00000   \n",
       "25%        2877.500000           0.000000  100.000000         360.00000   \n",
       "50%        3812.500000        1188.500000  128.000000         360.00000   \n",
       "75%        5795.000000        2297.250000  168.000000         360.00000   \n",
       "max       81000.000000       41667.000000  700.000000         480.00000   \n",
       "\n",
       "       Credit_History  \n",
       "count      564.000000  \n",
       "mean         0.842199  \n",
       "std          0.364878  \n",
       "min          0.000000  \n",
       "25%          1.000000  \n",
       "50%          1.000000  \n",
       "75%          1.000000  \n",
       "max          1.000000  "
      ]
     },
     "execution_count": 400,
     "metadata": {},
     "output_type": "execute_result"
    }
   ],
   "source": [
    "df_train.describe()"
   ]
  },
  {
   "cell_type": "code",
   "execution_count": 401,
   "metadata": {},
   "outputs": [
    {
     "data": {
      "text/html": [
       "<div>\n",
       "<style>\n",
       "    .dataframe thead tr:only-child th {\n",
       "        text-align: right;\n",
       "    }\n",
       "\n",
       "    .dataframe thead th {\n",
       "        text-align: left;\n",
       "    }\n",
       "\n",
       "    .dataframe tbody tr th {\n",
       "        vertical-align: top;\n",
       "    }\n",
       "</style>\n",
       "<table border=\"1\" class=\"dataframe\">\n",
       "  <thead>\n",
       "    <tr style=\"text-align: right;\">\n",
       "      <th></th>\n",
       "      <th>Loan_ID</th>\n",
       "      <th>Gender</th>\n",
       "      <th>Married</th>\n",
       "      <th>Dependents</th>\n",
       "      <th>Education</th>\n",
       "      <th>Self_Employed</th>\n",
       "      <th>ApplicantIncome</th>\n",
       "      <th>CoapplicantIncome</th>\n",
       "      <th>LoanAmount</th>\n",
       "      <th>Loan_Amount_Term</th>\n",
       "      <th>Credit_History</th>\n",
       "      <th>Property_Area</th>\n",
       "      <th>Loan_Status</th>\n",
       "    </tr>\n",
       "  </thead>\n",
       "  <tbody>\n",
       "    <tr>\n",
       "      <th>0</th>\n",
       "      <td>LP001002</td>\n",
       "      <td>Male</td>\n",
       "      <td>No</td>\n",
       "      <td>0</td>\n",
       "      <td>Graduate</td>\n",
       "      <td>No</td>\n",
       "      <td>5849</td>\n",
       "      <td>0.0</td>\n",
       "      <td>NaN</td>\n",
       "      <td>360.0</td>\n",
       "      <td>1.0</td>\n",
       "      <td>Urban</td>\n",
       "      <td>Y</td>\n",
       "    </tr>\n",
       "    <tr>\n",
       "      <th>1</th>\n",
       "      <td>LP001003</td>\n",
       "      <td>Male</td>\n",
       "      <td>Yes</td>\n",
       "      <td>1</td>\n",
       "      <td>Graduate</td>\n",
       "      <td>No</td>\n",
       "      <td>4583</td>\n",
       "      <td>1508.0</td>\n",
       "      <td>128.0</td>\n",
       "      <td>360.0</td>\n",
       "      <td>1.0</td>\n",
       "      <td>Rural</td>\n",
       "      <td>N</td>\n",
       "    </tr>\n",
       "    <tr>\n",
       "      <th>2</th>\n",
       "      <td>LP001005</td>\n",
       "      <td>Male</td>\n",
       "      <td>Yes</td>\n",
       "      <td>0</td>\n",
       "      <td>Graduate</td>\n",
       "      <td>Yes</td>\n",
       "      <td>3000</td>\n",
       "      <td>0.0</td>\n",
       "      <td>66.0</td>\n",
       "      <td>360.0</td>\n",
       "      <td>1.0</td>\n",
       "      <td>Urban</td>\n",
       "      <td>Y</td>\n",
       "    </tr>\n",
       "    <tr>\n",
       "      <th>3</th>\n",
       "      <td>LP001006</td>\n",
       "      <td>Male</td>\n",
       "      <td>Yes</td>\n",
       "      <td>0</td>\n",
       "      <td>Not Graduate</td>\n",
       "      <td>No</td>\n",
       "      <td>2583</td>\n",
       "      <td>2358.0</td>\n",
       "      <td>120.0</td>\n",
       "      <td>360.0</td>\n",
       "      <td>1.0</td>\n",
       "      <td>Urban</td>\n",
       "      <td>Y</td>\n",
       "    </tr>\n",
       "    <tr>\n",
       "      <th>4</th>\n",
       "      <td>LP001008</td>\n",
       "      <td>Male</td>\n",
       "      <td>No</td>\n",
       "      <td>0</td>\n",
       "      <td>Graduate</td>\n",
       "      <td>No</td>\n",
       "      <td>6000</td>\n",
       "      <td>0.0</td>\n",
       "      <td>141.0</td>\n",
       "      <td>360.0</td>\n",
       "      <td>1.0</td>\n",
       "      <td>Urban</td>\n",
       "      <td>Y</td>\n",
       "    </tr>\n",
       "  </tbody>\n",
       "</table>\n",
       "</div>"
      ],
      "text/plain": [
       "    Loan_ID Gender Married Dependents     Education Self_Employed  \\\n",
       "0  LP001002   Male      No          0      Graduate            No   \n",
       "1  LP001003   Male     Yes          1      Graduate            No   \n",
       "2  LP001005   Male     Yes          0      Graduate           Yes   \n",
       "3  LP001006   Male     Yes          0  Not Graduate            No   \n",
       "4  LP001008   Male      No          0      Graduate            No   \n",
       "\n",
       "   ApplicantIncome  CoapplicantIncome  LoanAmount  Loan_Amount_Term  \\\n",
       "0             5849                0.0         NaN             360.0   \n",
       "1             4583             1508.0       128.0             360.0   \n",
       "2             3000                0.0        66.0             360.0   \n",
       "3             2583             2358.0       120.0             360.0   \n",
       "4             6000                0.0       141.0             360.0   \n",
       "\n",
       "   Credit_History Property_Area Loan_Status  \n",
       "0             1.0         Urban           Y  \n",
       "1             1.0         Rural           N  \n",
       "2             1.0         Urban           Y  \n",
       "3             1.0         Urban           Y  \n",
       "4             1.0         Urban           Y  "
      ]
     },
     "execution_count": 401,
     "metadata": {},
     "output_type": "execute_result"
    }
   ],
   "source": [
    "df_train.head()"
   ]
  },
  {
   "cell_type": "code",
   "execution_count": 402,
   "metadata": {},
   "outputs": [
    {
     "name": "stdout",
     "output_type": "stream",
     "text": [
      "null count      7\n",
      "total count    13\n",
      "dtype: int64\n"
     ]
    },
    {
     "data": {
      "text/html": [
       "<div>\n",
       "<style>\n",
       "    .dataframe thead tr:only-child th {\n",
       "        text-align: right;\n",
       "    }\n",
       "\n",
       "    .dataframe thead th {\n",
       "        text-align: left;\n",
       "    }\n",
       "\n",
       "    .dataframe tbody tr th {\n",
       "        vertical-align: top;\n",
       "    }\n",
       "</style>\n",
       "<table border=\"1\" class=\"dataframe\">\n",
       "  <thead>\n",
       "    <tr style=\"text-align: right;\">\n",
       "      <th></th>\n",
       "      <th>Loan_ID</th>\n",
       "      <th>Gender</th>\n",
       "      <th>Married</th>\n",
       "      <th>Dependents</th>\n",
       "      <th>Education</th>\n",
       "      <th>Self_Employed</th>\n",
       "      <th>ApplicantIncome</th>\n",
       "      <th>CoapplicantIncome</th>\n",
       "      <th>LoanAmount</th>\n",
       "      <th>Loan_Amount_Term</th>\n",
       "      <th>Credit_History</th>\n",
       "      <th>Property_Area</th>\n",
       "      <th>Loan_Status</th>\n",
       "    </tr>\n",
       "  </thead>\n",
       "  <tbody>\n",
       "    <tr>\n",
       "      <th>null count</th>\n",
       "      <td>0</td>\n",
       "      <td>13</td>\n",
       "      <td>3</td>\n",
       "      <td>15</td>\n",
       "      <td>0</td>\n",
       "      <td>32</td>\n",
       "      <td>0</td>\n",
       "      <td>0</td>\n",
       "      <td>22</td>\n",
       "      <td>14</td>\n",
       "      <td>50</td>\n",
       "      <td>0</td>\n",
       "      <td>0</td>\n",
       "    </tr>\n",
       "    <tr>\n",
       "      <th>total count</th>\n",
       "      <td>614</td>\n",
       "      <td>601</td>\n",
       "      <td>611</td>\n",
       "      <td>599</td>\n",
       "      <td>614</td>\n",
       "      <td>582</td>\n",
       "      <td>614</td>\n",
       "      <td>614</td>\n",
       "      <td>592</td>\n",
       "      <td>600</td>\n",
       "      <td>564</td>\n",
       "      <td>614</td>\n",
       "      <td>614</td>\n",
       "    </tr>\n",
       "  </tbody>\n",
       "</table>\n",
       "</div>"
      ],
      "text/plain": [
       "             Loan_ID  Gender  Married  Dependents  Education  Self_Employed  \\\n",
       "null count         0      13        3          15          0             32   \n",
       "total count      614     601      611         599        614            582   \n",
       "\n",
       "             ApplicantIncome  CoapplicantIncome  LoanAmount  Loan_Amount_Term  \\\n",
       "null count                 0                  0          22                14   \n",
       "total count              614                614         592               600   \n",
       "\n",
       "             Credit_History  Property_Area  Loan_Status  \n",
       "null count               50              0            0  \n",
       "total count             564            614          614  "
      ]
     },
     "execution_count": 402,
     "metadata": {},
     "output_type": "execute_result"
    }
   ],
   "source": [
    "missing_values=pd.DataFrame(data=[df_train.apply(lambda x: sum(x.isnull()),axis=0),df_train.apply(lambda x: x.count())],\n",
    "             columns=df_train.columns,index=['null count','total count'])\n",
    "print(missing_values.apply(lambda x: sum(x>0),axis=1))\n",
    "missing_values\n"
   ]
  },
  {
   "cell_type": "markdown",
   "metadata": {},
   "source": [
    "we can see that in total the num of missing values is small, so in most columns we will just fill the missing values with the value that appears more often."
   ]
  },
  {
   "cell_type": "code",
   "execution_count": 403,
   "metadata": {
    "collapsed": true
   },
   "outputs": [],
   "source": [
    "df_train['Self_Employed'].fillna('No',inplace=True)\n",
    "df_train['Loan_Amount_Term'].fillna(360, inplace=True)\n",
    "df_train['Credit_History'].fillna(1, inplace=True)\n",
    "df_train['Dependents'].fillna(0, inplace=True)\n",
    "df_train['Married'].fillna('Yes', inplace=True)\n",
    "df_train['Gender'].fillna('Male', inplace=True)"
   ]
  },
  {
   "cell_type": "code",
   "execution_count": 404,
   "metadata": {
    "collapsed": true
   },
   "outputs": [],
   "source": [
    "df_test['Self_Employed'].fillna('No',inplace=True)\n",
    "df_test['Loan_Amount_Term'].fillna(360, inplace=True)\n",
    "df_test['Credit_History'].fillna(1, inplace=True)\n",
    "df_test['Dependents'].fillna(0, inplace=True)\n",
    "df_test['Married'].fillna('Yes', inplace=True)\n",
    "df_test['Gender'].fillna('Male', inplace=True)"
   ]
  },
  {
   "cell_type": "markdown",
   "metadata": {},
   "source": [
    "in LoadAmount column we will calculate the median for each of the combinations in 'Self_Employed' and 'Education' columns and fill the LoanAmount accordingly."
   ]
  },
  {
   "cell_type": "code",
   "execution_count": 405,
   "metadata": {},
   "outputs": [],
   "source": [
    "table = df_train.pivot_table(values='LoanAmount', index='Self_Employed' ,columns='Education', aggfunc=np.median)\n",
    "values_to_fill_LA=df_train[df_train['LoanAmount'].isnull()].apply(lambda x: table.loc[x['Self_Employed'],x['Education']], axis=1)\n",
    "df_train['LoanAmount'].fillna(values_to_fill_LA, inplace=True)"
   ]
  },
  {
   "cell_type": "code",
   "execution_count": 406,
   "metadata": {
    "collapsed": true
   },
   "outputs": [],
   "source": [
    "table = df_test.pivot_table(values='LoanAmount', index='Self_Employed' ,columns='Education', aggfunc=np.median)\n",
    "values_to_fill_LA=df_test[df_test['LoanAmount'].isnull()].apply(lambda x: table.loc[x['Self_Employed'],x['Education']], axis=1)\n",
    "df_test['LoanAmount'].fillna(values_to_fill_LA, inplace=True)\n"
   ]
  },
  {
   "cell_type": "markdown",
   "metadata": {},
   "source": [
    "## convert all our categorical variables into numeric"
   ]
  },
  {
   "cell_type": "code",
   "execution_count": 407,
   "metadata": {},
   "outputs": [
    {
     "data": {
      "text/plain": [
       "Loan_ID               object\n",
       "Gender                object\n",
       "Married               object\n",
       "Dependents            object\n",
       "Education             object\n",
       "Self_Employed         object\n",
       "ApplicantIncome        int64\n",
       "CoapplicantIncome    float64\n",
       "LoanAmount           float64\n",
       "Loan_Amount_Term     float64\n",
       "Credit_History       float64\n",
       "Property_Area         object\n",
       "Loan_Status           object\n",
       "dtype: object"
      ]
     },
     "execution_count": 407,
     "metadata": {},
     "output_type": "execute_result"
    }
   ],
   "source": [
    "df_train.dtypes "
   ]
  },
  {
   "cell_type": "code",
   "execution_count": 408,
   "metadata": {},
   "outputs": [],
   "source": [
    "var_mod = ['Gender','Married','Dependents','Education','Self_Employed','Property_Area','Loan_Status']\n",
    "le = LabelEncoder()\n",
    "for i in var_mod:\n",
    "    df_train[i] = le.fit_transform(df_train[i].astype(str))\n",
    "    "
   ]
  },
  {
   "cell_type": "markdown",
   "metadata": {},
   "source": [
    "do the same for test set"
   ]
  },
  {
   "cell_type": "code",
   "execution_count": 409,
   "metadata": {
    "collapsed": true
   },
   "outputs": [],
   "source": [
    "var_mod = ['Gender','Married','Dependents','Education','Self_Employed','Property_Area']\n",
    "le = LabelEncoder()\n",
    "for i in var_mod:\n",
    "    df_test[i] = le.fit_transform(df_test[i].astype(str))\n",
    "    "
   ]
  },
  {
   "cell_type": "markdown",
   "metadata": {},
   "source": [
    "## now we will normalize,analyze and manipulate the data for best prediction scores"
   ]
  },
  {
   "cell_type": "markdown",
   "metadata": {},
   "source": [
    "normalizing the LoanAmount column"
   ]
  },
  {
   "cell_type": "code",
   "execution_count": 410,
   "metadata": {},
   "outputs": [],
   "source": [
    "df_train['LoanAmount_log'] = np.log(df_train['LoanAmount'])\n",
    "\n",
    "df_test['LoanAmount_log'] = np.log(df_test['LoanAmount'])\n"
   ]
  },
  {
   "cell_type": "markdown",
   "metadata": {},
   "source": [
    "we will add a column TotalIncome and normalize it by log in column TotalIncome_log"
   ]
  },
  {
   "cell_type": "code",
   "execution_count": 411,
   "metadata": {},
   "outputs": [
    {
     "data": {
      "image/png": "[encoded data removed]",
      "text/plain": [
       "<matplotlib.figure.Figure at 0x2681e097908>"
      ]
     },
     "metadata": {},
     "output_type": "display_data"
    }
   ],
   "source": [
    "df_train['TotalIncome'] = df_train['ApplicantIncome'] + df_train['CoapplicantIncome']\n",
    "df_train['TotalIncome_log'] = np.log(df_train['TotalIncome'])\n",
    "df_train['TotalIncome_log'].hist(bins=20) \n",
    "\n",
    "df_test['TotalIncome'] = df_test['ApplicantIncome'] + df_test['CoapplicantIncome']\n",
    "df_test['TotalIncome_log'] = np.log(df_test['TotalIncome'])"
   ]
  },
  {
   "cell_type": "markdown",
   "metadata": {},
   "source": [
    "another column we like to add is LoanAmount/TotalIncome cause it gives as a clue about the capability of the applicant to return the loan."
   ]
  },
  {
   "cell_type": "code",
   "execution_count": 412,
   "metadata": {},
   "outputs": [
    {
     "data": {
      "text/plain": [
       "<matplotlib.axes._subplots.AxesSubplot at 0x2682063a4a8>"
      ]
     },
     "execution_count": 412,
     "metadata": {},
     "output_type": "execute_result"
    },
    {
     "data": {
      "image/png": "[encoded data removed]",
      "text/plain": [
       "<matplotlib.figure.Figure at 0x2681e091c18>"
      ]
     },
     "metadata": {},
     "output_type": "display_data"
    }
   ],
   "source": [
    "df_train['returnCapability'] = df_train['LoanAmount']/df_train['TotalIncome']\n",
    "df_train['returnCapability'].hist(bins=20) "
   ]
  },
  {
   "cell_type": "markdown",
   "metadata": {},
   "source": [
    "### we will check the realations between our target column and all other columns"
   ]
  },
  {
   "cell_type": "code",
   "execution_count": 413,
   "metadata": {},
   "outputs": [
    {
     "data": {
      "image/png": "[encoded data removed]",
      "text/plain": [
       "<matplotlib.figure.Figure at 0x2681e0835c0>"
      ]
     },
     "metadata": {},
     "output_type": "display_data"
    }
   ],
   "source": [
    "import matplotlib.pyplot as plt\n",
    "fig = plt.figure(figsize=(27,27))\n",
    "\n",
    "features=['Gender', 'Married', 'Dependents', 'Education',\n",
    "       'Self_Employed','Loan_Amount_Term', 'Credit_History', 'Property_Area']\n",
    "for i,feature in enumerate(features):\n",
    "    temp = df_train.pivot_table(values='Loan_Status',index=[feature],aggfunc=lambda x: x.mean())\n",
    "    ax = fig.add_subplot(5,3,i+1) # 1x2 grid on the first subplot\n",
    "    ax.set_xlabel(feature)\n",
    "    ax.set_ylabel('Probability of getting loan')\n",
    "    ax.set_title(\"Probability by %s\" % feature)\n",
    "    temp.plot(kind='bar',ax=ax)\n",
    "\n"
   ]
  },
  {
   "cell_type": "code",
   "execution_count": 414,
   "metadata": {},
   "outputs": [
    {
     "data": {
      "text/plain": [
       "<matplotlib.axes._subplots.AxesSubplot at 0x26820f44438>"
      ]
     },
     "execution_count": 414,
     "metadata": {},
     "output_type": "execute_result"
    },
    {
     "data": {
      "image/png": "[encoded data removed]",
      "text/plain": [
       "<matplotlib.figure.Figure at 0x26820f44160>"
      ]
     },
     "metadata": {},
     "output_type": "display_data"
    }
   ],
   "source": [
    "import matplotlib.pyplot as plt\n",
    "fig = plt.figure(figsize=(27,9))\n",
    "features=['ApplicantIncome', 'CoapplicantIncome', 'LoanAmount','TotalIncome', \n",
    "         'TotalIncome_log', 'returnCapability','LoanAmount_log']\n",
    "# for i,feature in enumerate(features):\n",
    "#     temp = df_train.pivot_table(values=feature,index=['Loan_Status'])\n",
    "#     ax = fig.add_subplot(5,3,i+1) # 1x2 grid on the first subplot\n",
    "#     ax.set_xlabel(feature)\n",
    "#     ax.set_ylabel('Probability of getting loan')\n",
    "#     ax.set_title(\"Probability by %s\" % feature)\n",
    "#     temp.plot(kind='bar',ax=ax)\n",
    "\n",
    "temp = df_train.pivot_table(values=features,index=['Loan_Status'])\n",
    "ax = fig.add_subplot(1,2,1) # 1x2 grid on the first subplot\n",
    "ax.set_xlabel(feature)\n",
    "ax.set_ylabel('Probability of getting loan')\n",
    "ax.set_title(\"Probability by %s\" % feature)\n",
    "temp.plot(kind='bar',ax=ax)"
   ]
  },
  {
   "cell_type": "markdown",
   "metadata": {},
   "source": [
    "## building the predictive model"
   ]
  },
  {
   "cell_type": "markdown",
   "metadata": {},
   "source": [
    "the next function gets an array of models and list of predictors and prints the accuracy and Cross-Validation Score \n",
    "for every combination of model and predictor list."
   ]
  },
  {
   "cell_type": "code",
   "execution_count": 415,
   "metadata": {
    "collapsed": true
   },
   "outputs": [],
   "source": [
    "def classification_model(modelList, data, predictorsList, outcome):\n",
    "    ans=[]\n",
    "    for i,model in enumerate(modelList):\n",
    "        print(\"Model : \", i+1)\n",
    "        resList=[]\n",
    "        for index,predictors in enumerate(predictorsList):\n",
    "            accuracyAndCV=\"\"\n",
    "            print(\"\\tchecking for predictors : \",index+1)\n",
    "            #Fit the model:\n",
    "            model.fit(data[predictors],data[outcome])\n",
    "\n",
    "            #Make predictions on training set:\n",
    "            predictions = model.predict(data[predictors])\n",
    "\n",
    "            #Print accuracy\n",
    "            accuracy = metrics.accuracy_score(predictions,data[outcome])\n",
    "            accuracyAndCV+=\"Accuracy: \"\n",
    "            accuracyAndCV+=str(\"{0:.3%}\".format(accuracy))\n",
    "            #print(\"\\tAccuracy : %s\" % \"{0:.3%}\".format(accuracy))\n",
    "            \n",
    "            #Perform k-fold cross-validation with 5 folds\n",
    "            kf = KFold(data.shape[0], n_folds=5)\n",
    "            error = []\n",
    "            for train, test in kf:\n",
    "                # Filter training data\n",
    "                train_predictors = (data[predictors].iloc[train,:])\n",
    "\n",
    "                # The target we're using to train the algorithm.\n",
    "                train_target = data[outcome].iloc[train]\n",
    "\n",
    "                # Training the algorithm using the predictors and target.\n",
    "                model.fit(train_predictors, train_target)\n",
    "\n",
    "                #Record error from each cross-validation run\n",
    "                error.append(model.score(data[predictors].iloc[test,:], data[outcome].iloc[test]))\n",
    "\n",
    "            #print(\"\\tCross-Validation Score : %s\" % \"{0:.3%}\".format(np.mean(error)))\n",
    "            accuracyAndCV+=\" CV: \"\n",
    "            accuracyAndCV+=str(\"{0:.3%}\".format(np.mean(error)))\n",
    "            resList.append(accuracyAndCV)\n",
    "            #print()\n",
    "        ans.append(resList)\n",
    "    return ans\n",
    "        "
   ]
  },
  {
   "cell_type": "code",
   "execution_count": 416,
   "metadata": {
    "collapsed": true
   },
   "outputs": [],
   "source": [
    "allvars=['Gender', 'Married', 'Dependents', 'Education',\n",
    "       'Self_Employed', 'ApplicantIncome', 'CoapplicantIncome', 'LoanAmount',\n",
    "       'Loan_Amount_Term', 'Credit_History', 'Property_Area','TotalIncome', \n",
    "         'TotalIncome_log', 'returnCapability','LoanAmount_log']"
   ]
  },
  {
   "cell_type": "markdown",
   "metadata": {},
   "source": [
    "### cheking feature importance"
   ]
  },
  {
   "cell_type": "code",
   "execution_count": 417,
   "metadata": {},
   "outputs": [
    {
     "name": "stdout",
     "output_type": "stream",
     "text": [
      "Credit_History       0.292201\n",
      "ApplicantIncome      0.156161\n",
      "returnCapability     0.118644\n",
      "TotalIncome          0.082630\n",
      "CoapplicantIncome    0.063993\n",
      "TotalIncome_log      0.053880\n",
      "Dependents           0.047567\n",
      "LoanAmount_log       0.044867\n",
      "LoanAmount           0.039744\n",
      "Property_Area        0.028626\n",
      "Loan_Amount_Term     0.018535\n",
      "Married              0.017714\n",
      "Self_Employed        0.017172\n",
      "Education            0.012203\n",
      "Gender               0.006062\n",
      "dtype: float64\n",
      "Credit_History       0.244875\n",
      "returnCapability     0.110894\n",
      "TotalIncome_log      0.096910\n",
      "TotalIncome          0.095863\n",
      "ApplicantIncome      0.094320\n",
      "LoanAmount           0.079891\n",
      "LoanAmount_log       0.078392\n",
      "CoapplicantIncome    0.060914\n",
      "Property_Area        0.030750\n",
      "Dependents           0.027669\n",
      "Loan_Amount_Term     0.025564\n",
      "Married              0.016277\n",
      "Education            0.014763\n",
      "Gender               0.011855\n",
      "Self_Employed        0.011064\n",
      "dtype: float64\n"
     ]
    }
   ],
   "source": [
    "DTmodel=DecisionTreeClassifier()\n",
    "RFmodel = RandomForestClassifier(n_estimators=1000)\n",
    "\n",
    "DTmodel.fit(df_train[allvars],df_train[outcome_var])\n",
    "RFmodel.fit(df_train[allvars],df_train[outcome_var])\n",
    "\n",
    "featimp1 = pd.Series(DTmodel.feature_importances_, index=allvars).sort_values(ascending=False)\n",
    "featimp2 = pd.Series(RFmodel.feature_importances_, index=allvars).sort_values(ascending=False)\n",
    "print(featimp1)\n",
    "print(featimp2)\n"
   ]
  },
  {
   "cell_type": "markdown",
   "metadata": {},
   "source": [
    "combining the plots information and the feature importance we will build some group of features and check them all for some different models"
   ]
  },
  {
   "cell_type": "code",
   "execution_count": 418,
   "metadata": {},
   "outputs": [],
   "source": [
    "outcome_var = 'Loan_Status'\n",
    "predictor_var1 = ['Gender', 'Married', 'Dependents', 'Education',\n",
    "       'Self_Employed', 'Loan_Amount_Term', 'Credit_History', 'Property_Area',\n",
    "        'LoanAmount_log','TotalIncome_log']\n",
    "predictor_var2 = ['Credit_History', 'TotalIncome_log', 'LoanAmount_log','Property_Area','Dependents']\n",
    "predictor_var3 = ['Credit_History', 'TotalIncome_log', 'LoanAmount_log','Property_Area','Education']\n",
    "predictor_var4 = ['Credit_History', 'TotalIncome_log', 'LoanAmount_log','Property_Area']\n",
    "predictor_var5 = ['Credit_History', 'TotalIncome_log', 'LoanAmount_log']\n",
    "predictor_var6 = ['Credit_History', 'TotalIncome_log', 'LoanAmount_log','Married','Dependents']\n",
    "predictor_var7 = ['Credit_History','ApplicantIncome','returnCapability']\n",
    "predictorsList=[predictor_var1,predictor_var2,predictor_var3,predictor_var4,predictor_var5,predictor_var6,predictor_var7]"
   ]
  },
  {
   "cell_type": "code",
   "execution_count": 419,
   "metadata": {},
   "outputs": [],
   "source": [
    "model1=SVC(gamma=2, C=1)\n",
    "model2=SVC(kernel=\"linear\", C=0.025)\n",
    "model3=GaussianNB()\n",
    "model4=KNeighborsClassifier(20)\n",
    "modelsList=[model1,model2,model3,model4]"
   ]
  },
  {
   "cell_type": "code",
   "execution_count": 420,
   "metadata": {},
   "outputs": [
    {
     "name": "stdout",
     "output_type": "stream",
     "text": [
      "Model :  1\n",
      "\tchecking for predictors :  1\n",
      "\tchecking for predictors :  2\n",
      "\tchecking for predictors :  3\n",
      "\tchecking for predictors :  4\n",
      "\tchecking for predictors :  5\n",
      "\tchecking for predictors :  6\n",
      "\tchecking for predictors :  7\n",
      "Model :  2\n",
      "\tchecking for predictors :  1\n",
      "\tchecking for predictors :  2\n",
      "\tchecking for predictors :  3\n",
      "\tchecking for predictors :  4\n",
      "\tchecking for predictors :  5\n",
      "\tchecking for predictors :  6\n",
      "\tchecking for predictors :  7\n",
      "Model :  3\n",
      "\tchecking for predictors :  1\n",
      "\tchecking for predictors :  2\n",
      "\tchecking for predictors :  3\n",
      "\tchecking for predictors :  4\n",
      "\tchecking for predictors :  5\n",
      "\tchecking for predictors :  6\n",
      "\tchecking for predictors :  7\n",
      "Model :  4\n",
      "\tchecking for predictors :  1\n",
      "\tchecking for predictors :  2\n",
      "\tchecking for predictors :  3\n",
      "\tchecking for predictors :  4\n",
      "\tchecking for predictors :  5\n",
      "\tchecking for predictors :  6\n",
      "\tchecking for predictors :  7\n"
     ]
    }
   ],
   "source": [
    "modelsList=[model1,model2,model3,model4]\n",
    "a=classification_model(modelsList, df_train,predictorsList,outcome_var)"
   ]
  },
  {
   "cell_type": "code",
   "execution_count": 421,
   "metadata": {},
   "outputs": [
    {
     "data": {
      "text/html": [
       "<div>\n",
       "<style>\n",
       "    .dataframe thead tr:only-child th {\n",
       "        text-align: right;\n",
       "    }\n",
       "\n",
       "    .dataframe thead th {\n",
       "        text-align: left;\n",
       "    }\n",
       "\n",
       "    .dataframe tbody tr th {\n",
       "        vertical-align: top;\n",
       "    }\n",
       "</style>\n",
       "<table border=\"1\" class=\"dataframe\">\n",
       "  <thead>\n",
       "    <tr style=\"text-align: right;\">\n",
       "      <th></th>\n",
       "      <th>pred1</th>\n",
       "      <th>pred2</th>\n",
       "      <th>pred3</th>\n",
       "      <th>pred4</th>\n",
       "      <th>pred5</th>\n",
       "      <th>pred6</th>\n",
       "      <th>pred7</th>\n",
       "    </tr>\n",
       "  </thead>\n",
       "  <tbody>\n",
       "    <tr>\n",
       "      <th>SVC1</th>\n",
       "      <td>Accuracy: 90.879% CV: 75.898%</td>\n",
       "      <td>Accuracy: 84.365% CV: 79.158%</td>\n",
       "      <td>Accuracy: 82.410% CV: 79.968%</td>\n",
       "      <td>Accuracy: 82.248% CV: 80.131%</td>\n",
       "      <td>Accuracy: 81.922% CV: 80.131%</td>\n",
       "      <td>Accuracy: 82.736% CV: 79.968%</td>\n",
       "      <td>Accuracy: 96.091% CV: 69.380%</td>\n",
       "    </tr>\n",
       "    <tr>\n",
       "      <th>SVC2</th>\n",
       "      <td>Accuracy: 80.945% CV: 80.946%</td>\n",
       "      <td>Accuracy: 80.945% CV: 80.946%</td>\n",
       "      <td>Accuracy: 80.945% CV: 80.946%</td>\n",
       "      <td>Accuracy: 80.945% CV: 80.946%</td>\n",
       "      <td>Accuracy: 80.945% CV: 80.946%</td>\n",
       "      <td>Accuracy: 80.945% CV: 80.946%</td>\n",
       "      <td>Accuracy: 80.945% CV: 80.784%</td>\n",
       "    </tr>\n",
       "    <tr>\n",
       "      <th>GaussianNB</th>\n",
       "      <td>Accuracy: 80.945% CV: 80.460%</td>\n",
       "      <td>Accuracy: 80.619% CV: 80.621%</td>\n",
       "      <td>Accuracy: 80.619% CV: 80.621%</td>\n",
       "      <td>Accuracy: 80.619% CV: 80.621%</td>\n",
       "      <td>Accuracy: 80.619% CV: 80.621%</td>\n",
       "      <td>Accuracy: 80.619% CV: 80.785%</td>\n",
       "      <td>Accuracy: 80.456% CV: 80.296%</td>\n",
       "    </tr>\n",
       "    <tr>\n",
       "      <th>KNeighbors</th>\n",
       "      <td>Accuracy: 76.221% CV: 72.798%</td>\n",
       "      <td>Accuracy: 80.293% CV: 78.988%</td>\n",
       "      <td>Accuracy: 80.782% CV: 80.620%</td>\n",
       "      <td>Accuracy: 80.782% CV: 80.946%</td>\n",
       "      <td>Accuracy: 81.107% CV: 80.620%</td>\n",
       "      <td>Accuracy: 80.293% CV: 79.479%</td>\n",
       "      <td>Accuracy: 70.358% CV: 66.939%</td>\n",
       "    </tr>\n",
       "  </tbody>\n",
       "</table>\n",
       "</div>"
      ],
      "text/plain": [
       "                                    pred1                          pred2  \\\n",
       "SVC1        Accuracy: 90.879% CV: 75.898%  Accuracy: 84.365% CV: 79.158%   \n",
       "SVC2        Accuracy: 80.945% CV: 80.946%  Accuracy: 80.945% CV: 80.946%   \n",
       "GaussianNB  Accuracy: 80.945% CV: 80.460%  Accuracy: 80.619% CV: 80.621%   \n",
       "KNeighbors  Accuracy: 76.221% CV: 72.798%  Accuracy: 80.293% CV: 78.988%   \n",
       "\n",
       "                                    pred3                          pred4  \\\n",
       "SVC1        Accuracy: 82.410% CV: 79.968%  Accuracy: 82.248% CV: 80.131%   \n",
       "SVC2        Accuracy: 80.945% CV: 80.946%  Accuracy: 80.945% CV: 80.946%   \n",
       "GaussianNB  Accuracy: 80.619% CV: 80.621%  Accuracy: 80.619% CV: 80.621%   \n",
       "KNeighbors  Accuracy: 80.782% CV: 80.620%  Accuracy: 80.782% CV: 80.946%   \n",
       "\n",
       "                                    pred5                          pred6  \\\n",
       "SVC1        Accuracy: 81.922% CV: 80.131%  Accuracy: 82.736% CV: 79.968%   \n",
       "SVC2        Accuracy: 80.945% CV: 80.946%  Accuracy: 80.945% CV: 80.946%   \n",
       "GaussianNB  Accuracy: 80.619% CV: 80.621%  Accuracy: 80.619% CV: 80.785%   \n",
       "KNeighbors  Accuracy: 81.107% CV: 80.620%  Accuracy: 80.293% CV: 79.479%   \n",
       "\n",
       "                                    pred7  \n",
       "SVC1        Accuracy: 96.091% CV: 69.380%  \n",
       "SVC2        Accuracy: 80.945% CV: 80.784%  \n",
       "GaussianNB  Accuracy: 80.456% CV: 80.296%  \n",
       "KNeighbors  Accuracy: 70.358% CV: 66.939%  "
      ]
     },
     "execution_count": 421,
     "metadata": {},
     "output_type": "execute_result"
    }
   ],
   "source": [
    "pd.DataFrame(data=a,\n",
    "             columns=['pred1','pred2','pred3','pred4','pred5','pred6','pred7'],\n",
    "             index=['SVC1','SVC2','GaussianNB','KNeighbors'])"
   ]
  },
  {
   "cell_type": "markdown",
   "metadata": {},
   "source": [
    "we can that we got the best results and accuracy-CV relation for (SVC2,pred4) and (KNeighbors,pred4) so thos are the results we going to upload to the competition."
   ]
  },
  {
   "cell_type": "markdown",
   "metadata": {},
   "source": [
    "import csv\n",
    "from itertools import zip_longest\n",
    "\n",
    "def intoCSV(list1,list2,filename):\n",
    "    d = [list1, list2]\n",
    "    export_data = zip_longest(*d, fillvalue = '')\n",
    "    with open(filename, 'w', encoding=\"ISO-8859-1\", newline='') as myfile:\n",
    "        wr = csv.writer(myfile)\n",
    "        wr.writerow((\"Loan_ID\", \"Loan_Status\"))\n",
    "        wr.writerows(export_data)\n",
    "    myfile.close()"
   ]
  },
  {
   "cell_type": "code",
   "execution_count": 432,
   "metadata": {
    "collapsed": true
   },
   "outputs": [],
   "source": [
    "loadIdList=df_test['Loan_ID'].tolist()\n",
    "\n",
    "def transformToYesNo(predictions):\n",
    "    result=[]\n",
    "    for i in predictions:\n",
    "        if i==1:\n",
    "            result.append('Y')\n",
    "        else:\n",
    "            result.append('N')\n",
    "    return result\n",
    "\n",
    "def getPred(model,pvars):\n",
    "    model.fit(df_train[pvars],df_train[outcome_var])\n",
    "    predictions = model.predict(df_test[pvars])\n",
    "    predictions=transformToYesNo(predictions)\n",
    "    return predictions"
   ]
  },
  {
   "cell_type": "code",
   "execution_count": 434,
   "metadata": {},
   "outputs": [],
   "source": [
    "intoCSV(loadIdList,getPred(model2,predictor_var4),'ans1.csv')\n",
    "intoCSV(loadIdList,getPred(model4,predictor_var4),'ans2.csv')\n",
    "intoCSV(loadIdList,getPred(model1,predictor_var1),'ans3.csv')\n",
    "intoCSV(loadIdList,getPred(model3,predictor_var1),'ans4.csv')"
   ]
  },
  {
   "cell_type": "markdown",
   "metadata": {},
   "source": [
    "ans1 and ans2 are the best scores and those are the files we submited.\n",
    "\n",
    "we also submited some other tries but they weren't successful as ans1 and ans2."
   ]
  }
 ],
 "metadata": {
  "kernelspec": {
   "display_name": "Python 3",
   "language": "python",
   "name": "python3"
  },
  "language_info": {
   "codemirror_mode": {
    "name": "ipython",
    "version": 3
   },
   "file_extension": ".py",
   "mimetype": "text/x-python",
   "name": "python",
   "nbconvert_exporter": "python",
   "pygments_lexer": "ipython3",
   "version": "3.6.3"
  }
 },
 "nbformat": 4,
 "nbformat_minor": 2
}
